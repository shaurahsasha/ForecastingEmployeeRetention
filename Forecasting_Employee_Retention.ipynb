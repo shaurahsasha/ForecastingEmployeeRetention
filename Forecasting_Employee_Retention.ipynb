{
  "nbformat": 4,
  "nbformat_minor": 0,
  "metadata": {
    "colab": {
      "provenance": [],
      "toc_visible": true,
      "authorship_tag": "ABX9TyM4UxznzatMFsgnkVJYZ5ux",
      "include_colab_link": true
    },
    "kernelspec": {
      "name": "python3",
      "display_name": "Python 3"
    },
    "language_info": {
      "name": "python"
    }
  },
  "cells": [
    {
      "cell_type": "markdown",
      "metadata": {
        "id": "view-in-github",
        "colab_type": "text"
      },
      "source": [
        "<a href=\"https://colab.research.google.com/github/shaurahsasha/ForecastingEmployeeRetention/blob/main/Forecasting_Employee_Retention.ipynb\" target=\"_parent\"><img src=\"https://colab.research.google.com/assets/colab-badge.svg\" alt=\"Open In Colab\"/></a>"
      ]
    },
    {
      "cell_type": "markdown",
      "source": [
        "# WIE2003 INTRODUCTION TO DATA SCIENCE PROJECT 2\n",
        "\n",
        "TITLE: FORECASTING EMPLOYEE RETENTION\n",
        "<br>NAME: SHAURAH BINTI SASHA\n",
        "<br>MATRICS NO.: 23066257"
      ],
      "metadata": {
        "id": "nLlmKVG6-uzX"
      }
    },
    {
      "cell_type": "markdown",
      "source": [
        "\n",
        "## PART 1: FILE UPLOAD\n",
        "\n",
        "File Name: FACTDATA_SEPT2024.TXT\n",
        "<br>Source: US OPM Website (www.opm.gov)"
      ],
      "metadata": {
        "id": "7fJh0HQm_XpF"
      }
    },
    {
      "cell_type": "code",
      "source": [
        "#IMPORTS\n",
        "from google.colab import files\n",
        "import pandas as pd"
      ],
      "metadata": {
        "id": "W9KkQKerAnSo"
      },
      "execution_count": null,
      "outputs": []
    },
    {
      "cell_type": "code",
      "source": [
        "uploaded = files.upload()"
      ],
      "metadata": {
        "colab": {
          "base_uri": "https://localhost:8080/",
          "height": 73
        },
        "id": "6YHrurgFQNSs",
        "outputId": "8536fea8-cd34-41d6-b678-9d97dcf60b26"
      },
      "execution_count": null,
      "outputs": [
        {
          "output_type": "display_data",
          "data": {
            "text/plain": [
              "<IPython.core.display.HTML object>"
            ],
            "text/html": [
              "\n",
              "     <input type=\"file\" id=\"files-dfb1289b-4213-44fe-85ac-adfb52561668\" name=\"files[]\" multiple disabled\n",
              "        style=\"border:none\" />\n",
              "     <output id=\"result-dfb1289b-4213-44fe-85ac-adfb52561668\">\n",
              "      Upload widget is only available when the cell has been executed in the\n",
              "      current browser session. Please rerun this cell to enable.\n",
              "      </output>\n",
              "      <script>// Copyright 2017 Google LLC\n",
              "//\n",
              "// Licensed under the Apache License, Version 2.0 (the \"License\");\n",
              "// you may not use this file except in compliance with the License.\n",
              "// You may obtain a copy of the License at\n",
              "//\n",
              "//      http://www.apache.org/licenses/LICENSE-2.0\n",
              "//\n",
              "// Unless required by applicable law or agreed to in writing, software\n",
              "// distributed under the License is distributed on an \"AS IS\" BASIS,\n",
              "// WITHOUT WARRANTIES OR CONDITIONS OF ANY KIND, either express or implied.\n",
              "// See the License for the specific language governing permissions and\n",
              "// limitations under the License.\n",
              "\n",
              "/**\n",
              " * @fileoverview Helpers for google.colab Python module.\n",
              " */\n",
              "(function(scope) {\n",
              "function span(text, styleAttributes = {}) {\n",
              "  const element = document.createElement('span');\n",
              "  element.textContent = text;\n",
              "  for (const key of Object.keys(styleAttributes)) {\n",
              "    element.style[key] = styleAttributes[key];\n",
              "  }\n",
              "  return element;\n",
              "}\n",
              "\n",
              "// Max number of bytes which will be uploaded at a time.\n",
              "const MAX_PAYLOAD_SIZE = 100 * 1024;\n",
              "\n",
              "function _uploadFiles(inputId, outputId) {\n",
              "  const steps = uploadFilesStep(inputId, outputId);\n",
              "  const outputElement = document.getElementById(outputId);\n",
              "  // Cache steps on the outputElement to make it available for the next call\n",
              "  // to uploadFilesContinue from Python.\n",
              "  outputElement.steps = steps;\n",
              "\n",
              "  return _uploadFilesContinue(outputId);\n",
              "}\n",
              "\n",
              "// This is roughly an async generator (not supported in the browser yet),\n",
              "// where there are multiple asynchronous steps and the Python side is going\n",
              "// to poll for completion of each step.\n",
              "// This uses a Promise to block the python side on completion of each step,\n",
              "// then passes the result of the previous step as the input to the next step.\n",
              "function _uploadFilesContinue(outputId) {\n",
              "  const outputElement = document.getElementById(outputId);\n",
              "  const steps = outputElement.steps;\n",
              "\n",
              "  const next = steps.next(outputElement.lastPromiseValue);\n",
              "  return Promise.resolve(next.value.promise).then((value) => {\n",
              "    // Cache the last promise value to make it available to the next\n",
              "    // step of the generator.\n",
              "    outputElement.lastPromiseValue = value;\n",
              "    return next.value.response;\n",
              "  });\n",
              "}\n",
              "\n",
              "/**\n",
              " * Generator function which is called between each async step of the upload\n",
              " * process.\n",
              " * @param {string} inputId Element ID of the input file picker element.\n",
              " * @param {string} outputId Element ID of the output display.\n",
              " * @return {!Iterable<!Object>} Iterable of next steps.\n",
              " */\n",
              "function* uploadFilesStep(inputId, outputId) {\n",
              "  const inputElement = document.getElementById(inputId);\n",
              "  inputElement.disabled = false;\n",
              "\n",
              "  const outputElement = document.getElementById(outputId);\n",
              "  outputElement.innerHTML = '';\n",
              "\n",
              "  const pickedPromise = new Promise((resolve) => {\n",
              "    inputElement.addEventListener('change', (e) => {\n",
              "      resolve(e.target.files);\n",
              "    });\n",
              "  });\n",
              "\n",
              "  const cancel = document.createElement('button');\n",
              "  inputElement.parentElement.appendChild(cancel);\n",
              "  cancel.textContent = 'Cancel upload';\n",
              "  const cancelPromise = new Promise((resolve) => {\n",
              "    cancel.onclick = () => {\n",
              "      resolve(null);\n",
              "    };\n",
              "  });\n",
              "\n",
              "  // Wait for the user to pick the files.\n",
              "  const files = yield {\n",
              "    promise: Promise.race([pickedPromise, cancelPromise]),\n",
              "    response: {\n",
              "      action: 'starting',\n",
              "    }\n",
              "  };\n",
              "\n",
              "  cancel.remove();\n",
              "\n",
              "  // Disable the input element since further picks are not allowed.\n",
              "  inputElement.disabled = true;\n",
              "\n",
              "  if (!files) {\n",
              "    return {\n",
              "      response: {\n",
              "        action: 'complete',\n",
              "      }\n",
              "    };\n",
              "  }\n",
              "\n",
              "  for (const file of files) {\n",
              "    const li = document.createElement('li');\n",
              "    li.append(span(file.name, {fontWeight: 'bold'}));\n",
              "    li.append(span(\n",
              "        `(${file.type || 'n/a'}) - ${file.size} bytes, ` +\n",
              "        `last modified: ${\n",
              "            file.lastModifiedDate ? file.lastModifiedDate.toLocaleDateString() :\n",
              "                                    'n/a'} - `));\n",
              "    const percent = span('0% done');\n",
              "    li.appendChild(percent);\n",
              "\n",
              "    outputElement.appendChild(li);\n",
              "\n",
              "    const fileDataPromise = new Promise((resolve) => {\n",
              "      const reader = new FileReader();\n",
              "      reader.onload = (e) => {\n",
              "        resolve(e.target.result);\n",
              "      };\n",
              "      reader.readAsArrayBuffer(file);\n",
              "    });\n",
              "    // Wait for the data to be ready.\n",
              "    let fileData = yield {\n",
              "      promise: fileDataPromise,\n",
              "      response: {\n",
              "        action: 'continue',\n",
              "      }\n",
              "    };\n",
              "\n",
              "    // Use a chunked sending to avoid message size limits. See b/62115660.\n",
              "    let position = 0;\n",
              "    do {\n",
              "      const length = Math.min(fileData.byteLength - position, MAX_PAYLOAD_SIZE);\n",
              "      const chunk = new Uint8Array(fileData, position, length);\n",
              "      position += length;\n",
              "\n",
              "      const base64 = btoa(String.fromCharCode.apply(null, chunk));\n",
              "      yield {\n",
              "        response: {\n",
              "          action: 'append',\n",
              "          file: file.name,\n",
              "          data: base64,\n",
              "        },\n",
              "      };\n",
              "\n",
              "      let percentDone = fileData.byteLength === 0 ?\n",
              "          100 :\n",
              "          Math.round((position / fileData.byteLength) * 100);\n",
              "      percent.textContent = `${percentDone}% done`;\n",
              "\n",
              "    } while (position < fileData.byteLength);\n",
              "  }\n",
              "\n",
              "  // All done.\n",
              "  yield {\n",
              "    response: {\n",
              "      action: 'complete',\n",
              "    }\n",
              "  };\n",
              "}\n",
              "\n",
              "scope.google = scope.google || {};\n",
              "scope.google.colab = scope.google.colab || {};\n",
              "scope.google.colab._files = {\n",
              "  _uploadFiles,\n",
              "  _uploadFilesContinue,\n",
              "};\n",
              "})(self);\n",
              "</script> "
            ]
          },
          "metadata": {}
        },
        {
          "output_type": "stream",
          "name": "stdout",
          "text": [
            "Saving FACTDATA_SEP2024.TXT to FACTDATA_SEP2024.TXT\n"
          ]
        }
      ]
    },
    {
      "cell_type": "markdown",
      "source": [
        "## PART 2: DATASET INFORMATION\n"
      ],
      "metadata": {
        "id": "_oxn7eMHAYzE"
      }
    },
    {
      "cell_type": "code",
      "source": [
        "df = pd.read_csv('FACTDATA_SEP2024.TXT')\n",
        "df.head()"
      ],
      "metadata": {
        "colab": {
          "base_uri": "https://localhost:8080/",
          "height": 241
        },
        "id": "DRDmuW5jU-Ef",
        "outputId": "9da9a238-38b8-4690-dfd7-5d4955ff2f00"
      },
      "execution_count": null,
      "outputs": [
        {
          "output_type": "stream",
          "name": "stderr",
          "text": [
            "<ipython-input-17-90aac10feca7>:1: DtypeWarning: Columns (3,4,6,8,12,13) have mixed types. Specify dtype option on import or set low_memory=False.\n",
            "  df = pd.read_csv('FACTDATA_SEP2024.TXT')\n"
          ]
        },
        {
          "output_type": "execute_result",
          "data": {
            "text/plain": [
              "  AGYSUB LOC AGELVL EDLVL GSEGRD LOSLVL   OCC  PATCO  PP  PPGRD  SALLVL  \\\n",
              "0   AA00  11      F    13    NaN      G  0340      2  ES  ES-**      20   \n",
              "1   AA00  11      J    15    NaN      I  0905      1  ES  ES-**      20   \n",
              "2   AA00  11      K    04    NaN      G  0301      2  99  EX-02      21   \n",
              "3   AA00  11      C    04   12.0      C  0560      2  99  GS-12      10   \n",
              "4   AA00  11      D    04   13.0      C  0905      1  99  GS-13      11   \n",
              "\n",
              "  STEMOCC SUPERVIS TOA WORKSCH  WORKSTAT  DATECODE  EMPLOYMENT    SALARY   LOS  \n",
              "0    XXXX        2  50       F         1    202409           1  215000.0  21.3  \n",
              "1    XXXX        2  50       F         1    202409           1  208000.0  31.7  \n",
              "2    XXXX        2  48       F         2    202409           1  221900.0  22.5  \n",
              "3    XXXX        8  10       F         1    202409           1  102506.0   3.0  \n",
              "4    XXXX        8  30       F         1    202409           1  117962.0   3.0  "
            ],
            "text/html": [
              "\n",
              "  <div id=\"df-f9f60b82-9dbb-4bf8-aa86-7ab93ccf760f\" class=\"colab-df-container\">\n",
              "    <div>\n",
              "<style scoped>\n",
              "    .dataframe tbody tr th:only-of-type {\n",
              "        vertical-align: middle;\n",
              "    }\n",
              "\n",
              "    .dataframe tbody tr th {\n",
              "        vertical-align: top;\n",
              "    }\n",
              "\n",
              "    .dataframe thead th {\n",
              "        text-align: right;\n",
              "    }\n",
              "</style>\n",
              "<table border=\"1\" class=\"dataframe\">\n",
              "  <thead>\n",
              "    <tr style=\"text-align: right;\">\n",
              "      <th></th>\n",
              "      <th>AGYSUB</th>\n",
              "      <th>LOC</th>\n",
              "      <th>AGELVL</th>\n",
              "      <th>EDLVL</th>\n",
              "      <th>GSEGRD</th>\n",
              "      <th>LOSLVL</th>\n",
              "      <th>OCC</th>\n",
              "      <th>PATCO</th>\n",
              "      <th>PP</th>\n",
              "      <th>PPGRD</th>\n",
              "      <th>SALLVL</th>\n",
              "      <th>STEMOCC</th>\n",
              "      <th>SUPERVIS</th>\n",
              "      <th>TOA</th>\n",
              "      <th>WORKSCH</th>\n",
              "      <th>WORKSTAT</th>\n",
              "      <th>DATECODE</th>\n",
              "      <th>EMPLOYMENT</th>\n",
              "      <th>SALARY</th>\n",
              "      <th>LOS</th>\n",
              "    </tr>\n",
              "  </thead>\n",
              "  <tbody>\n",
              "    <tr>\n",
              "      <th>0</th>\n",
              "      <td>AA00</td>\n",
              "      <td>11</td>\n",
              "      <td>F</td>\n",
              "      <td>13</td>\n",
              "      <td>NaN</td>\n",
              "      <td>G</td>\n",
              "      <td>0340</td>\n",
              "      <td>2</td>\n",
              "      <td>ES</td>\n",
              "      <td>ES-**</td>\n",
              "      <td>20</td>\n",
              "      <td>XXXX</td>\n",
              "      <td>2</td>\n",
              "      <td>50</td>\n",
              "      <td>F</td>\n",
              "      <td>1</td>\n",
              "      <td>202409</td>\n",
              "      <td>1</td>\n",
              "      <td>215000.0</td>\n",
              "      <td>21.3</td>\n",
              "    </tr>\n",
              "    <tr>\n",
              "      <th>1</th>\n",
              "      <td>AA00</td>\n",
              "      <td>11</td>\n",
              "      <td>J</td>\n",
              "      <td>15</td>\n",
              "      <td>NaN</td>\n",
              "      <td>I</td>\n",
              "      <td>0905</td>\n",
              "      <td>1</td>\n",
              "      <td>ES</td>\n",
              "      <td>ES-**</td>\n",
              "      <td>20</td>\n",
              "      <td>XXXX</td>\n",
              "      <td>2</td>\n",
              "      <td>50</td>\n",
              "      <td>F</td>\n",
              "      <td>1</td>\n",
              "      <td>202409</td>\n",
              "      <td>1</td>\n",
              "      <td>208000.0</td>\n",
              "      <td>31.7</td>\n",
              "    </tr>\n",
              "    <tr>\n",
              "      <th>2</th>\n",
              "      <td>AA00</td>\n",
              "      <td>11</td>\n",
              "      <td>K</td>\n",
              "      <td>04</td>\n",
              "      <td>NaN</td>\n",
              "      <td>G</td>\n",
              "      <td>0301</td>\n",
              "      <td>2</td>\n",
              "      <td>99</td>\n",
              "      <td>EX-02</td>\n",
              "      <td>21</td>\n",
              "      <td>XXXX</td>\n",
              "      <td>2</td>\n",
              "      <td>48</td>\n",
              "      <td>F</td>\n",
              "      <td>2</td>\n",
              "      <td>202409</td>\n",
              "      <td>1</td>\n",
              "      <td>221900.0</td>\n",
              "      <td>22.5</td>\n",
              "    </tr>\n",
              "    <tr>\n",
              "      <th>3</th>\n",
              "      <td>AA00</td>\n",
              "      <td>11</td>\n",
              "      <td>C</td>\n",
              "      <td>04</td>\n",
              "      <td>12.0</td>\n",
              "      <td>C</td>\n",
              "      <td>0560</td>\n",
              "      <td>2</td>\n",
              "      <td>99</td>\n",
              "      <td>GS-12</td>\n",
              "      <td>10</td>\n",
              "      <td>XXXX</td>\n",
              "      <td>8</td>\n",
              "      <td>10</td>\n",
              "      <td>F</td>\n",
              "      <td>1</td>\n",
              "      <td>202409</td>\n",
              "      <td>1</td>\n",
              "      <td>102506.0</td>\n",
              "      <td>3.0</td>\n",
              "    </tr>\n",
              "    <tr>\n",
              "      <th>4</th>\n",
              "      <td>AA00</td>\n",
              "      <td>11</td>\n",
              "      <td>D</td>\n",
              "      <td>04</td>\n",
              "      <td>13.0</td>\n",
              "      <td>C</td>\n",
              "      <td>0905</td>\n",
              "      <td>1</td>\n",
              "      <td>99</td>\n",
              "      <td>GS-13</td>\n",
              "      <td>11</td>\n",
              "      <td>XXXX</td>\n",
              "      <td>8</td>\n",
              "      <td>30</td>\n",
              "      <td>F</td>\n",
              "      <td>1</td>\n",
              "      <td>202409</td>\n",
              "      <td>1</td>\n",
              "      <td>117962.0</td>\n",
              "      <td>3.0</td>\n",
              "    </tr>\n",
              "  </tbody>\n",
              "</table>\n",
              "</div>\n",
              "    <div class=\"colab-df-buttons\">\n",
              "\n",
              "  <div class=\"colab-df-container\">\n",
              "    <button class=\"colab-df-convert\" onclick=\"convertToInteractive('df-f9f60b82-9dbb-4bf8-aa86-7ab93ccf760f')\"\n",
              "            title=\"Convert this dataframe to an interactive table.\"\n",
              "            style=\"display:none;\">\n",
              "\n",
              "  <svg xmlns=\"http://www.w3.org/2000/svg\" height=\"24px\" viewBox=\"0 -960 960 960\">\n",
              "    <path d=\"M120-120v-720h720v720H120Zm60-500h600v-160H180v160Zm220 220h160v-160H400v160Zm0 220h160v-160H400v160ZM180-400h160v-160H180v160Zm440 0h160v-160H620v160ZM180-180h160v-160H180v160Zm440 0h160v-160H620v160Z\"/>\n",
              "  </svg>\n",
              "    </button>\n",
              "\n",
              "  <style>\n",
              "    .colab-df-container {\n",
              "      display:flex;\n",
              "      gap: 12px;\n",
              "    }\n",
              "\n",
              "    .colab-df-convert {\n",
              "      background-color: #E8F0FE;\n",
              "      border: none;\n",
              "      border-radius: 50%;\n",
              "      cursor: pointer;\n",
              "      display: none;\n",
              "      fill: #1967D2;\n",
              "      height: 32px;\n",
              "      padding: 0 0 0 0;\n",
              "      width: 32px;\n",
              "    }\n",
              "\n",
              "    .colab-df-convert:hover {\n",
              "      background-color: #E2EBFA;\n",
              "      box-shadow: 0px 1px 2px rgba(60, 64, 67, 0.3), 0px 1px 3px 1px rgba(60, 64, 67, 0.15);\n",
              "      fill: #174EA6;\n",
              "    }\n",
              "\n",
              "    .colab-df-buttons div {\n",
              "      margin-bottom: 4px;\n",
              "    }\n",
              "\n",
              "    [theme=dark] .colab-df-convert {\n",
              "      background-color: #3B4455;\n",
              "      fill: #D2E3FC;\n",
              "    }\n",
              "\n",
              "    [theme=dark] .colab-df-convert:hover {\n",
              "      background-color: #434B5C;\n",
              "      box-shadow: 0px 1px 3px 1px rgba(0, 0, 0, 0.15);\n",
              "      filter: drop-shadow(0px 1px 2px rgba(0, 0, 0, 0.3));\n",
              "      fill: #FFFFFF;\n",
              "    }\n",
              "  </style>\n",
              "\n",
              "    <script>\n",
              "      const buttonEl =\n",
              "        document.querySelector('#df-f9f60b82-9dbb-4bf8-aa86-7ab93ccf760f button.colab-df-convert');\n",
              "      buttonEl.style.display =\n",
              "        google.colab.kernel.accessAllowed ? 'block' : 'none';\n",
              "\n",
              "      async function convertToInteractive(key) {\n",
              "        const element = document.querySelector('#df-f9f60b82-9dbb-4bf8-aa86-7ab93ccf760f');\n",
              "        const dataTable =\n",
              "          await google.colab.kernel.invokeFunction('convertToInteractive',\n",
              "                                                    [key], {});\n",
              "        if (!dataTable) return;\n",
              "\n",
              "        const docLinkHtml = 'Like what you see? Visit the ' +\n",
              "          '<a target=\"_blank\" href=https://colab.research.google.com/notebooks/data_table.ipynb>data table notebook</a>'\n",
              "          + ' to learn more about interactive tables.';\n",
              "        element.innerHTML = '';\n",
              "        dataTable['output_type'] = 'display_data';\n",
              "        await google.colab.output.renderOutput(dataTable, element);\n",
              "        const docLink = document.createElement('div');\n",
              "        docLink.innerHTML = docLinkHtml;\n",
              "        element.appendChild(docLink);\n",
              "      }\n",
              "    </script>\n",
              "  </div>\n",
              "\n",
              "\n",
              "    <div id=\"df-b62bab74-e388-4959-9df9-00b5b6a51c46\">\n",
              "      <button class=\"colab-df-quickchart\" onclick=\"quickchart('df-b62bab74-e388-4959-9df9-00b5b6a51c46')\"\n",
              "                title=\"Suggest charts\"\n",
              "                style=\"display:none;\">\n",
              "\n",
              "<svg xmlns=\"http://www.w3.org/2000/svg\" height=\"24px\"viewBox=\"0 0 24 24\"\n",
              "     width=\"24px\">\n",
              "    <g>\n",
              "        <path d=\"M19 3H5c-1.1 0-2 .9-2 2v14c0 1.1.9 2 2 2h14c1.1 0 2-.9 2-2V5c0-1.1-.9-2-2-2zM9 17H7v-7h2v7zm4 0h-2V7h2v10zm4 0h-2v-4h2v4z\"/>\n",
              "    </g>\n",
              "</svg>\n",
              "      </button>\n",
              "\n",
              "<style>\n",
              "  .colab-df-quickchart {\n",
              "      --bg-color: #E8F0FE;\n",
              "      --fill-color: #1967D2;\n",
              "      --hover-bg-color: #E2EBFA;\n",
              "      --hover-fill-color: #174EA6;\n",
              "      --disabled-fill-color: #AAA;\n",
              "      --disabled-bg-color: #DDD;\n",
              "  }\n",
              "\n",
              "  [theme=dark] .colab-df-quickchart {\n",
              "      --bg-color: #3B4455;\n",
              "      --fill-color: #D2E3FC;\n",
              "      --hover-bg-color: #434B5C;\n",
              "      --hover-fill-color: #FFFFFF;\n",
              "      --disabled-bg-color: #3B4455;\n",
              "      --disabled-fill-color: #666;\n",
              "  }\n",
              "\n",
              "  .colab-df-quickchart {\n",
              "    background-color: var(--bg-color);\n",
              "    border: none;\n",
              "    border-radius: 50%;\n",
              "    cursor: pointer;\n",
              "    display: none;\n",
              "    fill: var(--fill-color);\n",
              "    height: 32px;\n",
              "    padding: 0;\n",
              "    width: 32px;\n",
              "  }\n",
              "\n",
              "  .colab-df-quickchart:hover {\n",
              "    background-color: var(--hover-bg-color);\n",
              "    box-shadow: 0 1px 2px rgba(60, 64, 67, 0.3), 0 1px 3px 1px rgba(60, 64, 67, 0.15);\n",
              "    fill: var(--button-hover-fill-color);\n",
              "  }\n",
              "\n",
              "  .colab-df-quickchart-complete:disabled,\n",
              "  .colab-df-quickchart-complete:disabled:hover {\n",
              "    background-color: var(--disabled-bg-color);\n",
              "    fill: var(--disabled-fill-color);\n",
              "    box-shadow: none;\n",
              "  }\n",
              "\n",
              "  .colab-df-spinner {\n",
              "    border: 2px solid var(--fill-color);\n",
              "    border-color: transparent;\n",
              "    border-bottom-color: var(--fill-color);\n",
              "    animation:\n",
              "      spin 1s steps(1) infinite;\n",
              "  }\n",
              "\n",
              "  @keyframes spin {\n",
              "    0% {\n",
              "      border-color: transparent;\n",
              "      border-bottom-color: var(--fill-color);\n",
              "      border-left-color: var(--fill-color);\n",
              "    }\n",
              "    20% {\n",
              "      border-color: transparent;\n",
              "      border-left-color: var(--fill-color);\n",
              "      border-top-color: var(--fill-color);\n",
              "    }\n",
              "    30% {\n",
              "      border-color: transparent;\n",
              "      border-left-color: var(--fill-color);\n",
              "      border-top-color: var(--fill-color);\n",
              "      border-right-color: var(--fill-color);\n",
              "    }\n",
              "    40% {\n",
              "      border-color: transparent;\n",
              "      border-right-color: var(--fill-color);\n",
              "      border-top-color: var(--fill-color);\n",
              "    }\n",
              "    60% {\n",
              "      border-color: transparent;\n",
              "      border-right-color: var(--fill-color);\n",
              "    }\n",
              "    80% {\n",
              "      border-color: transparent;\n",
              "      border-right-color: var(--fill-color);\n",
              "      border-bottom-color: var(--fill-color);\n",
              "    }\n",
              "    90% {\n",
              "      border-color: transparent;\n",
              "      border-bottom-color: var(--fill-color);\n",
              "    }\n",
              "  }\n",
              "</style>\n",
              "\n",
              "      <script>\n",
              "        async function quickchart(key) {\n",
              "          const quickchartButtonEl =\n",
              "            document.querySelector('#' + key + ' button');\n",
              "          quickchartButtonEl.disabled = true;  // To prevent multiple clicks.\n",
              "          quickchartButtonEl.classList.add('colab-df-spinner');\n",
              "          try {\n",
              "            const charts = await google.colab.kernel.invokeFunction(\n",
              "                'suggestCharts', [key], {});\n",
              "          } catch (error) {\n",
              "            console.error('Error during call to suggestCharts:', error);\n",
              "          }\n",
              "          quickchartButtonEl.classList.remove('colab-df-spinner');\n",
              "          quickchartButtonEl.classList.add('colab-df-quickchart-complete');\n",
              "        }\n",
              "        (() => {\n",
              "          let quickchartButtonEl =\n",
              "            document.querySelector('#df-b62bab74-e388-4959-9df9-00b5b6a51c46 button');\n",
              "          quickchartButtonEl.style.display =\n",
              "            google.colab.kernel.accessAllowed ? 'block' : 'none';\n",
              "        })();\n",
              "      </script>\n",
              "    </div>\n",
              "\n",
              "    </div>\n",
              "  </div>\n"
            ],
            "application/vnd.google.colaboratory.intrinsic+json": {
              "type": "dataframe",
              "variable_name": "df"
            }
          },
          "metadata": {},
          "execution_count": 17
        }
      ]
    },
    {
      "cell_type": "code",
      "source": [
        "df.shape"
      ],
      "metadata": {
        "colab": {
          "base_uri": "https://localhost:8080/"
        },
        "id": "jadSmgF8Xe0r",
        "outputId": "b56a6d0e-3368-4761-e2fe-b461d304a60d"
      },
      "execution_count": null,
      "outputs": [
        {
          "output_type": "execute_result",
          "data": {
            "text/plain": [
              "(2313216, 20)"
            ]
          },
          "metadata": {},
          "execution_count": 18
        }
      ]
    },
    {
      "cell_type": "code",
      "source": [
        "df.info()"
      ],
      "metadata": {
        "colab": {
          "base_uri": "https://localhost:8080/"
        },
        "id": "GVFtQ7C6V0Bf",
        "outputId": "8d3ebaeb-799a-4f17-a325-f689296275ff"
      },
      "execution_count": null,
      "outputs": [
        {
          "output_type": "stream",
          "name": "stdout",
          "text": [
            "<class 'pandas.core.frame.DataFrame'>\n",
            "RangeIndex: 2313216 entries, 0 to 2313215\n",
            "Data columns (total 20 columns):\n",
            " #   Column      Dtype  \n",
            "---  ------      -----  \n",
            " 0   AGYSUB      object \n",
            " 1   LOC         object \n",
            " 2   AGELVL      object \n",
            " 3   EDLVL       object \n",
            " 4   GSEGRD      object \n",
            " 5   LOSLVL      object \n",
            " 6   OCC         object \n",
            " 7   PATCO       int64  \n",
            " 8   PP          object \n",
            " 9   PPGRD       object \n",
            " 10  SALLVL      int64  \n",
            " 11  STEMOCC     object \n",
            " 12  SUPERVIS    object \n",
            " 13  TOA         object \n",
            " 14  WORKSCH     object \n",
            " 15  WORKSTAT    int64  \n",
            " 16  DATECODE    int64  \n",
            " 17  EMPLOYMENT  int64  \n",
            " 18  SALARY      float64\n",
            " 19  LOS         float64\n",
            "dtypes: float64(2), int64(5), object(13)\n",
            "memory usage: 353.0+ MB\n"
          ]
        }
      ]
    },
    {
      "cell_type": "markdown",
      "source": [
        "## PART 3: DATA CLEANING"
      ],
      "metadata": {
        "id": "DjwbfzMhA123"
      }
    },
    {
      "cell_type": "code",
      "source": [
        "df.isnull().sum()"
      ],
      "metadata": {
        "colab": {
          "base_uri": "https://localhost:8080/",
          "height": 711
        },
        "id": "kkoRKWOcZM0m",
        "outputId": "b2458198-29e0-411e-ee7c-988ed4e9b2de"
      },
      "execution_count": null,
      "outputs": [
        {
          "output_type": "execute_result",
          "data": {
            "text/plain": [
              "AGYSUB             0\n",
              "LOC                0\n",
              "AGELVL             0\n",
              "EDLVL           2866\n",
              "GSEGRD        688044\n",
              "LOSLVL             0\n",
              "OCC                0\n",
              "PATCO              0\n",
              "PP                 0\n",
              "PPGRD              0\n",
              "SALLVL             0\n",
              "STEMOCC            0\n",
              "SUPERVIS           0\n",
              "TOA                0\n",
              "WORKSCH            0\n",
              "WORKSTAT           0\n",
              "DATECODE           0\n",
              "EMPLOYMENT         0\n",
              "SALARY        288428\n",
              "LOS              749\n",
              "dtype: int64"
            ],
            "text/html": [
              "<div>\n",
              "<style scoped>\n",
              "    .dataframe tbody tr th:only-of-type {\n",
              "        vertical-align: middle;\n",
              "    }\n",
              "\n",
              "    .dataframe tbody tr th {\n",
              "        vertical-align: top;\n",
              "    }\n",
              "\n",
              "    .dataframe thead th {\n",
              "        text-align: right;\n",
              "    }\n",
              "</style>\n",
              "<table border=\"1\" class=\"dataframe\">\n",
              "  <thead>\n",
              "    <tr style=\"text-align: right;\">\n",
              "      <th></th>\n",
              "      <th>0</th>\n",
              "    </tr>\n",
              "  </thead>\n",
              "  <tbody>\n",
              "    <tr>\n",
              "      <th>AGYSUB</th>\n",
              "      <td>0</td>\n",
              "    </tr>\n",
              "    <tr>\n",
              "      <th>LOC</th>\n",
              "      <td>0</td>\n",
              "    </tr>\n",
              "    <tr>\n",
              "      <th>AGELVL</th>\n",
              "      <td>0</td>\n",
              "    </tr>\n",
              "    <tr>\n",
              "      <th>EDLVL</th>\n",
              "      <td>2866</td>\n",
              "    </tr>\n",
              "    <tr>\n",
              "      <th>GSEGRD</th>\n",
              "      <td>688044</td>\n",
              "    </tr>\n",
              "    <tr>\n",
              "      <th>LOSLVL</th>\n",
              "      <td>0</td>\n",
              "    </tr>\n",
              "    <tr>\n",
              "      <th>OCC</th>\n",
              "      <td>0</td>\n",
              "    </tr>\n",
              "    <tr>\n",
              "      <th>PATCO</th>\n",
              "      <td>0</td>\n",
              "    </tr>\n",
              "    <tr>\n",
              "      <th>PP</th>\n",
              "      <td>0</td>\n",
              "    </tr>\n",
              "    <tr>\n",
              "      <th>PPGRD</th>\n",
              "      <td>0</td>\n",
              "    </tr>\n",
              "    <tr>\n",
              "      <th>SALLVL</th>\n",
              "      <td>0</td>\n",
              "    </tr>\n",
              "    <tr>\n",
              "      <th>STEMOCC</th>\n",
              "      <td>0</td>\n",
              "    </tr>\n",
              "    <tr>\n",
              "      <th>SUPERVIS</th>\n",
              "      <td>0</td>\n",
              "    </tr>\n",
              "    <tr>\n",
              "      <th>TOA</th>\n",
              "      <td>0</td>\n",
              "    </tr>\n",
              "    <tr>\n",
              "      <th>WORKSCH</th>\n",
              "      <td>0</td>\n",
              "    </tr>\n",
              "    <tr>\n",
              "      <th>WORKSTAT</th>\n",
              "      <td>0</td>\n",
              "    </tr>\n",
              "    <tr>\n",
              "      <th>DATECODE</th>\n",
              "      <td>0</td>\n",
              "    </tr>\n",
              "    <tr>\n",
              "      <th>EMPLOYMENT</th>\n",
              "      <td>0</td>\n",
              "    </tr>\n",
              "    <tr>\n",
              "      <th>SALARY</th>\n",
              "      <td>288428</td>\n",
              "    </tr>\n",
              "    <tr>\n",
              "      <th>LOS</th>\n",
              "      <td>749</td>\n",
              "    </tr>\n",
              "  </tbody>\n",
              "</table>\n",
              "</div><br><label><b>dtype:</b> int64</label>"
            ]
          },
          "metadata": {},
          "execution_count": 20
        }
      ]
    },
    {
      "cell_type": "code",
      "source": [
        "df.duplicated().sum()"
      ],
      "metadata": {
        "colab": {
          "base_uri": "https://localhost:8080/"
        },
        "id": "ftujUX6FaIzD",
        "outputId": "1477a9ec-d754-4e6f-a898-db596aed9a45"
      },
      "execution_count": null,
      "outputs": [
        {
          "output_type": "execute_result",
          "data": {
            "text/plain": [
              "np.int64(118164)"
            ]
          },
          "metadata": {},
          "execution_count": 21
        }
      ]
    },
    {
      "cell_type": "code",
      "source": [
        "# Original full dataset\n",
        "df_ori = df.copy()"
      ],
      "metadata": {
        "id": "cdacnpzCdOQP"
      },
      "execution_count": null,
      "outputs": []
    },
    {
      "cell_type": "code",
      "source": [
        "df_cleaned = df.dropna()\n",
        "df_cleaned.isnull().sum()"
      ],
      "metadata": {
        "colab": {
          "base_uri": "https://localhost:8080/",
          "height": 711
        },
        "id": "kSLRH4oGd7cr",
        "outputId": "245c227e-b5ac-426a-977a-1e3355a59b4b"
      },
      "execution_count": null,
      "outputs": [
        {
          "output_type": "execute_result",
          "data": {
            "text/plain": [
              "AGYSUB        0\n",
              "LOC           0\n",
              "AGELVL        0\n",
              "EDLVL         0\n",
              "GSEGRD        0\n",
              "LOSLVL        0\n",
              "OCC           0\n",
              "PATCO         0\n",
              "PP            0\n",
              "PPGRD         0\n",
              "SALLVL        0\n",
              "STEMOCC       0\n",
              "SUPERVIS      0\n",
              "TOA           0\n",
              "WORKSCH       0\n",
              "WORKSTAT      0\n",
              "DATECODE      0\n",
              "EMPLOYMENT    0\n",
              "SALARY        0\n",
              "LOS           0\n",
              "dtype: int64"
            ],
            "text/html": [
              "<div>\n",
              "<style scoped>\n",
              "    .dataframe tbody tr th:only-of-type {\n",
              "        vertical-align: middle;\n",
              "    }\n",
              "\n",
              "    .dataframe tbody tr th {\n",
              "        vertical-align: top;\n",
              "    }\n",
              "\n",
              "    .dataframe thead th {\n",
              "        text-align: right;\n",
              "    }\n",
              "</style>\n",
              "<table border=\"1\" class=\"dataframe\">\n",
              "  <thead>\n",
              "    <tr style=\"text-align: right;\">\n",
              "      <th></th>\n",
              "      <th>0</th>\n",
              "    </tr>\n",
              "  </thead>\n",
              "  <tbody>\n",
              "    <tr>\n",
              "      <th>AGYSUB</th>\n",
              "      <td>0</td>\n",
              "    </tr>\n",
              "    <tr>\n",
              "      <th>LOC</th>\n",
              "      <td>0</td>\n",
              "    </tr>\n",
              "    <tr>\n",
              "      <th>AGELVL</th>\n",
              "      <td>0</td>\n",
              "    </tr>\n",
              "    <tr>\n",
              "      <th>EDLVL</th>\n",
              "      <td>0</td>\n",
              "    </tr>\n",
              "    <tr>\n",
              "      <th>GSEGRD</th>\n",
              "      <td>0</td>\n",
              "    </tr>\n",
              "    <tr>\n",
              "      <th>LOSLVL</th>\n",
              "      <td>0</td>\n",
              "    </tr>\n",
              "    <tr>\n",
              "      <th>OCC</th>\n",
              "      <td>0</td>\n",
              "    </tr>\n",
              "    <tr>\n",
              "      <th>PATCO</th>\n",
              "      <td>0</td>\n",
              "    </tr>\n",
              "    <tr>\n",
              "      <th>PP</th>\n",
              "      <td>0</td>\n",
              "    </tr>\n",
              "    <tr>\n",
              "      <th>PPGRD</th>\n",
              "      <td>0</td>\n",
              "    </tr>\n",
              "    <tr>\n",
              "      <th>SALLVL</th>\n",
              "      <td>0</td>\n",
              "    </tr>\n",
              "    <tr>\n",
              "      <th>STEMOCC</th>\n",
              "      <td>0</td>\n",
              "    </tr>\n",
              "    <tr>\n",
              "      <th>SUPERVIS</th>\n",
              "      <td>0</td>\n",
              "    </tr>\n",
              "    <tr>\n",
              "      <th>TOA</th>\n",
              "      <td>0</td>\n",
              "    </tr>\n",
              "    <tr>\n",
              "      <th>WORKSCH</th>\n",
              "      <td>0</td>\n",
              "    </tr>\n",
              "    <tr>\n",
              "      <th>WORKSTAT</th>\n",
              "      <td>0</td>\n",
              "    </tr>\n",
              "    <tr>\n",
              "      <th>DATECODE</th>\n",
              "      <td>0</td>\n",
              "    </tr>\n",
              "    <tr>\n",
              "      <th>EMPLOYMENT</th>\n",
              "      <td>0</td>\n",
              "    </tr>\n",
              "    <tr>\n",
              "      <th>SALARY</th>\n",
              "      <td>0</td>\n",
              "    </tr>\n",
              "    <tr>\n",
              "      <th>LOS</th>\n",
              "      <td>0</td>\n",
              "    </tr>\n",
              "  </tbody>\n",
              "</table>\n",
              "</div><br><label><b>dtype:</b> int64</label>"
            ]
          },
          "metadata": {},
          "execution_count": 23
        }
      ]
    },
    {
      "cell_type": "code",
      "source": [
        "df_cleaned = df.drop_duplicates()\n",
        "df_cleaned.duplicated().sum()"
      ],
      "metadata": {
        "colab": {
          "base_uri": "https://localhost:8080/"
        },
        "id": "XN44DSqOdjVH",
        "outputId": "c4af4145-2962-4fa2-e882-f844613302e6"
      },
      "execution_count": null,
      "outputs": [
        {
          "output_type": "execute_result",
          "data": {
            "text/plain": [
              "np.int64(0)"
            ]
          },
          "metadata": {},
          "execution_count": 24
        }
      ]
    },
    {
      "cell_type": "code",
      "source": [
        "#for col in df_cleaned.columns:\n",
        "    #unique_vals = df_cleaned[col].unique()\n",
        "    #print(f\"Column: {col}\")\n",
        "    #print(f\"Unique Values ({len(unique_vals)}): {unique_vals}\")\n",
        "    #print(\"-\" * 50)"
      ],
      "metadata": {
        "id": "joMaeMZneffr"
      },
      "execution_count": null,
      "outputs": []
    },
    {
      "cell_type": "markdown",
      "source": [
        "seems like all columns have some kind of unspecified definition. ask chatgpt how to check all columns and make python print it neatly tomorrow rawr. goodnight! 2:04AM 12/5/2025"
      ],
      "metadata": {
        "id": "VxQr03iVhIRe"
      }
    },
    {
      "cell_type": "markdown",
      "source": [
        "hi again. i've done it but i would need to refer back to the definitions for the data. for now, we'll just continue with the unique nans. 4:07PM 3/6/2025"
      ],
      "metadata": {
        "id": "UYChYwR707pb"
      }
    },
    {
      "cell_type": "markdown",
      "source": [
        "## PART 4: CHOOSING FEATURES"
      ],
      "metadata": {
        "id": "x22oiTbcBGDH"
      }
    },
    {
      "cell_type": "code",
      "source": [
        "df_cleaned = df_cleaned.drop(columns=['AGYSUB', 'LOC', 'WORKSTAT', 'DATECODE', 'EMPLOYMENT', 'GSEGRD', 'OCC', 'PP', 'PPGRD', 'STEMOCC', 'SUPERVIS'], errors='ignore')"
      ],
      "metadata": {
        "id": "14Nt_t8eFs_o"
      },
      "execution_count": null,
      "outputs": []
    },
    {
      "cell_type": "markdown",
      "source": [
        "## PART 5: FEATURE ENGINEERING"
      ],
      "metadata": {
        "id": "gnES1_GwCcz2"
      }
    },
    {
      "cell_type": "code",
      "source": [
        "df_encoded = df_cleaned.copy()"
      ],
      "metadata": {
        "id": "Zv0qCsBXbq_Q"
      },
      "execution_count": null,
      "outputs": []
    },
    {
      "cell_type": "markdown",
      "source": [
        "### PART 5.1: AGELVL"
      ],
      "metadata": {
        "id": "4BxCLFq4BT1L"
      }
    },
    {
      "cell_type": "code",
      "source": [
        "df_encoded = df_encoded[df_encoded['AGELVL'] != 'Z']"
      ],
      "metadata": {
        "id": "ooFIDcmyHLPA"
      },
      "execution_count": null,
      "outputs": []
    },
    {
      "cell_type": "code",
      "source": [
        "# Define custom mapping\n",
        "age_mapping = {\n",
        "    'A': 0,  # <20\n",
        "    'B': 1,  # 20-24\n",
        "    'C': 2,  # 25-29\n",
        "    'D': 3,\n",
        "    'E': 4,\n",
        "    'F': 5,\n",
        "    'G': 6,\n",
        "    'H': 7,\n",
        "    'I': 8,\n",
        "    'J': 9,\n",
        "    'K': 10  # 65+\n",
        "}\n",
        "\n",
        "df_encoded['AGELVL_ENC'] = df_encoded['AGELVL'].map(age_mapping)"
      ],
      "metadata": {
        "colab": {
          "base_uri": "https://localhost:8080/"
        },
        "id": "hxSacKVVGNNS",
        "outputId": "a6a6aa1b-1496-4cbf-d865-f1801e56c8ad"
      },
      "execution_count": null,
      "outputs": [
        {
          "output_type": "stream",
          "name": "stderr",
          "text": [
            "<ipython-input-29-d85fac5f41f0>:16: SettingWithCopyWarning: \n",
            "A value is trying to be set on a copy of a slice from a DataFrame.\n",
            "Try using .loc[row_indexer,col_indexer] = value instead\n",
            "\n",
            "See the caveats in the documentation: https://pandas.pydata.org/pandas-docs/stable/user_guide/indexing.html#returning-a-view-versus-a-copy\n",
            "  df_encoded['AGELVL_ENC'] = df_encoded['AGELVL'].map(age_mapping)\n"
          ]
        }
      ]
    },
    {
      "cell_type": "markdown",
      "source": [
        "### PART 5.2: EDLVL"
      ],
      "metadata": {
        "id": "9SqguVYsC0c-"
      }
    },
    {
      "cell_type": "code",
      "source": [
        "print(\"Unique values in EDLVL:\")\n",
        "print(df_encoded['EDLVL'].unique())"
      ],
      "metadata": {
        "colab": {
          "base_uri": "https://localhost:8080/"
        },
        "id": "2P5QM487li6o",
        "outputId": "27dc8e8c-e684-48ba-ad56-87b5d57b2711"
      },
      "execution_count": null,
      "outputs": [
        {
          "output_type": "stream",
          "name": "stdout",
          "text": [
            "Unique values in EDLVL:\n",
            "['13' '15' '04' '17' '08' '10' '07' '09' '21' '18' '20' '12' '11' '14'\n",
            " '06' '19' '16' '22' '03' '05' '02' '01' '4.0' '5.0' '13.0' '6.0' '21.0'\n",
            " '10.0' '17.0' '11.0' '7.0' '8.0' '14.0' '9.0' '12.0' '18.0' '3.0' '22.0'\n",
            " '15.0' '20.0' '16.0' '1.0' '19.0' '2.0' '7' '4' '8' '9' '5' '1' '6' '3'\n",
            " '2']\n"
          ]
        }
      ]
    },
    {
      "cell_type": "code",
      "source": [
        "# Ensure everything is string and remove .0 if it exists\n",
        "df_encoded['EDLVL'] = df_encoded['EDLVL'].astype(float).astype(int).astype(str).str.zfill(2)\n",
        "\n",
        "# Drop invalid codes\n",
        "to_drop = ['**', 'nan'] + [str(i).zfill(2) for i in range(23, 100)]\n",
        "df_encoded = df_encoded[~df_encoded['EDLVL'].isin(to_drop)]\n",
        "\n",
        "# Apply mapping\n",
        "detailed_to_main = {\n",
        "    '01': 0, '02': 0, '03': 0,       # Less than High School\n",
        "    '04': 1,                         # High School Diploma\n",
        "    '05': 2, '06': 2,                # Some College\n",
        "    '07': 3, '08': 3, '09': 3,       # Associate\n",
        "    '10': 3, '11': 3, '12': 3,\n",
        "    '13': 4,                         # Bachelor’s\n",
        "    '14': 5, '15': 5, '16': 5,       # Post-Bachelor\n",
        "    '17': 6,                         # Master’s\n",
        "    '18': 7, '19': 7, '20': 7,       # Post-Master\n",
        "    '21': 8,                         # Doctorate\n",
        "    '22': 9                          # Post-Doctorate\n",
        "}\n",
        "\n",
        "df_encoded['EDLVL_ENC'] = df_encoded['EDLVL'].map(detailed_to_main)"
      ],
      "metadata": {
        "id": "cfqx_AKemLnd"
      },
      "execution_count": null,
      "outputs": []
    },
    {
      "cell_type": "code",
      "source": [
        "print(\"Any NaNs left?\", df_encoded['EDLVL_ENC'].isna().sum())"
      ],
      "metadata": {
        "colab": {
          "base_uri": "https://localhost:8080/"
        },
        "id": "lvu7HwevmPed",
        "outputId": "892a7dfc-301e-4bff-bfaa-8e005da7a54a"
      },
      "execution_count": null,
      "outputs": [
        {
          "output_type": "stream",
          "name": "stdout",
          "text": [
            "Any NaNs left? 0\n"
          ]
        }
      ]
    },
    {
      "cell_type": "markdown",
      "source": [
        "### PART 5.3: PATCO"
      ],
      "metadata": {
        "id": "pwP-w3VzC5sR"
      }
    },
    {
      "cell_type": "code",
      "source": [
        "df_encoded = df_encoded[df_encoded['PATCO'] != 9]"
      ],
      "metadata": {
        "id": "g7Kf9A2eMlqo"
      },
      "execution_count": null,
      "outputs": []
    },
    {
      "cell_type": "code",
      "source": [
        "# Map PATCO to 0-index\n",
        "patco_map = {\n",
        "    1: 0,  # Professional\n",
        "    2: 1,  # Administrative\n",
        "    3: 2,  # Technical\n",
        "    4: 3,  # Clerical\n",
        "    5: 4,  # Other White Collar\n",
        "    6: 5   # Blue Collar\n",
        "}\n",
        "\n",
        "df_encoded['PATCO_ENC'] = df_encoded['PATCO'].map(patco_map)"
      ],
      "metadata": {
        "id": "VUNNJTx1aoNy"
      },
      "execution_count": null,
      "outputs": []
    },
    {
      "cell_type": "markdown",
      "source": [
        "### PART 5.4: SALLVL"
      ],
      "metadata": {
        "id": "nZmCyHHIDDUp"
      }
    },
    {
      "cell_type": "code",
      "source": [
        "# Drop 30 (Unspecified/Zero)\n",
        "df_encoded = df_encoded[df_encoded['SALLVL'] != 30]\n",
        "\n",
        "# Map integers: 1 ➜ 0, 2 ➜ 1, ..., 29 ➜ 28\n",
        "sallvl_map = {i: i - 1 for i in range(1, 30)}\n",
        "\n",
        "# Encode\n",
        "df_encoded['SALLVL_ENC'] = df_encoded['SALLVL'].map(sallvl_map)"
      ],
      "metadata": {
        "id": "-PEPvM5oavcq"
      },
      "execution_count": null,
      "outputs": []
    },
    {
      "cell_type": "markdown",
      "source": [
        "### PART 5.5: SALARY"
      ],
      "metadata": {
        "id": "GzH_Unq5DF-_"
      }
    },
    {
      "cell_type": "code",
      "source": [
        "print(df_encoded['SALARY'].isna().sum())         # Count of NaNs\n",
        "print(np.isinf(df_encoded['SALARY']).sum())      # Count of infinite values (needs `import numpy as np`)"
      ],
      "metadata": {
        "colab": {
          "base_uri": "https://localhost:8080/"
        },
        "id": "A6KcunKrlW68",
        "outputId": "0126d186-209d-4f9e-fcad-ba31d4e14674"
      },
      "execution_count": null,
      "outputs": [
        {
          "output_type": "stream",
          "name": "stdout",
          "text": [
            "211045\n",
            "0\n"
          ]
        }
      ]
    },
    {
      "cell_type": "code",
      "source": [
        "import numpy as np\n",
        "\n",
        "df_encoded = df_encoded[~df_encoded['SALARY'].isna()]             # Drop NaNs\n",
        "df_encoded = df_encoded[~np.isinf(df_encoded['SALARY'])]          # Drop inf values"
      ],
      "metadata": {
        "id": "PpBJyCZVm4F4"
      },
      "execution_count": null,
      "outputs": []
    },
    {
      "cell_type": "code",
      "source": [
        "df_encoded['SALARY'] = df_encoded['SALARY'].astype(int)"
      ],
      "metadata": {
        "id": "ypR-maZxm7wL"
      },
      "execution_count": null,
      "outputs": []
    },
    {
      "cell_type": "code",
      "source": [
        "print(\"Any NaNs left?\", df_encoded['SALARY'].isna().sum())"
      ],
      "metadata": {
        "colab": {
          "base_uri": "https://localhost:8080/"
        },
        "id": "Hf8igFHZm-Zc",
        "outputId": "98b730c4-662d-40a0-c445-2d4371f5386f"
      },
      "execution_count": null,
      "outputs": [
        {
          "output_type": "stream",
          "name": "stdout",
          "text": [
            "Any NaNs left? 0\n"
          ]
        }
      ]
    },
    {
      "cell_type": "markdown",
      "source": [
        "### PART 5.6: TOA"
      ],
      "metadata": {
        "id": "M_M8imyWDIWy"
      }
    },
    {
      "cell_type": "code",
      "source": [
        "# Drop rows with '**' first\n",
        "df_encoded = df_encoded[df_encoded['TOA'] != '**']\n",
        "\n",
        "# Ensure all TOA values are strings\n",
        "df_encoded['TOA'] = df_encoded['TOA'].astype(str)\n",
        "\n",
        "# Define sets\n",
        "perm_codes = {'10', '15', '30', '32', '34', '35', '36', '38', '50', '55'}\n",
        "non_perm_codes = {'20', '40', '42', '44', '45', '46', '48', '60', '65'}\n",
        "\n",
        "# Map to 1 (Permanent), 2 (Non-Permanent), else None\n",
        "def map_toa_numeric(code):\n",
        "    if code in perm_codes:\n",
        "        return 1\n",
        "    elif code in non_perm_codes:\n",
        "        return 0\n",
        "    else:\n",
        "        return None  # To be dropped later\n",
        "\n",
        "df_encoded['TOA_ENC'] = df_encoded['TOA'].apply(map_toa_numeric)\n",
        "\n",
        "# Drop any rows where TOA_TYPE is None\n",
        "df_encoded = df_encoded.dropna(subset=['TOA_ENC'])"
      ],
      "metadata": {
        "id": "tmEdCyHCT0Fm"
      },
      "execution_count": null,
      "outputs": []
    },
    {
      "cell_type": "markdown",
      "source": [
        "### PART 5.7: WORKSCH"
      ],
      "metadata": {
        "id": "ig2e3QIvDLPq"
      }
    },
    {
      "cell_type": "code",
      "source": [
        "# Drop '*'\n",
        "df_encoded = df_encoded[df_encoded['WORKSCH'] != '*']\n",
        "\n",
        "# Define sets\n",
        "full_time_codes = {'B', 'F', 'G', 'H'}\n",
        "not_full_time_codes = {'I', 'J', 'P', 'Q', 'R', 'S', 'T'}\n",
        "\n",
        "# Map to binary\n",
        "def map_worksch(code):\n",
        "    if code in full_time_codes:\n",
        "        return 1\n",
        "    elif code in not_full_time_codes:\n",
        "        return 0\n",
        "    else:\n",
        "        return None  # just in case\n",
        "\n",
        "df_encoded['WORKSCH_ENC'] = df_encoded['WORKSCH'].apply(map_worksch)"
      ],
      "metadata": {
        "id": "3My-QC5LWHru"
      },
      "execution_count": null,
      "outputs": []
    },
    {
      "cell_type": "markdown",
      "source": [
        "### PART 5.8: LOSLVL"
      ],
      "metadata": {
        "id": "aoht1L0ZDP3M"
      }
    },
    {
      "cell_type": "code",
      "source": [
        "# Drop Z\n",
        "df_encoded = df_encoded[df_encoded['LOSLVL'] != 'Z']\n",
        "\n",
        "# Mapping\n",
        "loslvl_mapping = {\n",
        "    'A': 0, 'B': 1, 'C': 2, 'D': 3, 'E': 4,\n",
        "    'F': 5, 'G': 6, 'H': 7, 'I': 8, 'J': 9\n",
        "}\n",
        "\n",
        "# Apply mapping\n",
        "df_encoded['LOSLVL_ENC'] = df_encoded['LOSLVL'].map(loslvl_mapping)"
      ],
      "metadata": {
        "id": "7-4z8nJnYRQ_"
      },
      "execution_count": null,
      "outputs": []
    },
    {
      "cell_type": "markdown",
      "source": [
        "### PART 5.9: LOS"
      ],
      "metadata": {
        "id": "fJg_LzpkDSep"
      }
    },
    {
      "cell_type": "code",
      "source": [
        "import seaborn as sns\n",
        "sns.boxplot(data=df_encoded, x='LOS')"
      ],
      "metadata": {
        "colab": {
          "base_uri": "https://localhost:8080/",
          "height": 466
        },
        "id": "w5CwhNrW9pKI",
        "outputId": "ccb57e3a-eedc-4df4-ba4a-2c258dd612aa"
      },
      "execution_count": null,
      "outputs": [
        {
          "output_type": "execute_result",
          "data": {
            "text/plain": [
              "<Axes: xlabel='LOS'>"
            ]
          },
          "metadata": {},
          "execution_count": 74
        },
        {
          "output_type": "display_data",
          "data": {
            "text/plain": [
              "<Figure size 640x480 with 1 Axes>"
            ],
            "image/png": "[encoded data removed]"
          },
          "metadata": {}
        }
      ]
    },
    {
      "cell_type": "code",
      "source": [
        "# Remove extreme outliers > 40 years\n",
        "df_encoded = df_encoded[df_encoded['LOS'] <= 40]"
      ],
      "metadata": {
        "id": "UcwTSQMIZM4T"
      },
      "execution_count": null,
      "outputs": []
    },
    {
      "cell_type": "markdown",
      "source": [
        "## PART 6: CORRELATION"
      ],
      "metadata": {
        "id": "KJ9zGdFRCm69"
      }
    },
    {
      "cell_type": "code",
      "source": [
        "# Step 1: Create a copy to preserve all columns\n",
        "df_full = df_encoded.copy()\n",
        "\n",
        "# Step 2: Create a clean version for ML\n",
        "df_full = df_full.drop(columns=[\n",
        "    'AGELVL', 'EDLVL', 'PATCO', 'SALLVL', 'TOA', 'WORKSCH', 'LOSLVL',\n",
        "])\n",
        "\n",
        "# Optional: Rename encoded columns\n",
        "df_full = df_full.rename(columns={\n",
        "    'AGELVL_ENC': 'AGELVL',\n",
        "    'EDLVL_ENC': 'EDLVL',\n",
        "    'PATCO_ENC': 'PATCO',\n",
        "    'SALLVL_ENC': 'SALLVL',\n",
        "    'TOA_ENC': 'TOA',\n",
        "    'WORKSCH_ENC': 'WORKSCH',\n",
        "    'LOSLVL_ENC': 'LOSLVL',\n",
        "})"
      ],
      "metadata": {
        "id": "kWRltqmkc95r"
      },
      "execution_count": null,
      "outputs": []
    },
    {
      "cell_type": "code",
      "source": [
        "import pandas as pd\n",
        "import seaborn as sns\n",
        "import matplotlib.pyplot as plt\n",
        "\n",
        "# Calculate correlation matrix (only numerical columns)\n",
        "corr_matrix = df_full.corr(numeric_only=True)\n",
        "\n",
        "# Print correlation matrix\n",
        "print(corr_matrix)\n",
        "\n",
        "# Optional: heatmap for nicer visualization\n",
        "plt.figure(figsize=(10, 8))\n",
        "sns.heatmap(corr_matrix, annot=True, cmap='coolwarm', fmt=\".2f\")\n",
        "plt.title(\"Correlation Heatmap\")\n",
        "plt.show()"
      ],
      "metadata": {
        "id": "tR-f8EOghdDL",
        "colab": {
          "base_uri": "https://localhost:8080/",
          "height": 1000
        },
        "outputId": "0bba24d0-1eb6-471b-c72e-549bfe066f49"
      },
      "execution_count": null,
      "outputs": [
        {
          "output_type": "stream",
          "name": "stdout",
          "text": [
            "           SALARY       LOS    AGELVL     EDLVL     PATCO    SALLVL       TOA  \\\n",
            "SALARY   1.000000  0.326229  0.239650  0.444927 -0.484730  0.984600  0.086758   \n",
            "LOS      0.326229  1.000000  0.517313  0.045852 -0.102737  0.357529  0.165363   \n",
            "AGELVL   0.239650  0.517313  1.000000  0.047853 -0.051820  0.250576  0.064062   \n",
            "EDLVL    0.444927  0.045852  0.047853  1.000000 -0.528947  0.465081 -0.000626   \n",
            "PATCO   -0.484730 -0.102737 -0.051820 -0.528947  1.000000 -0.504248 -0.026483   \n",
            "SALLVL   0.984600  0.357529  0.250576  0.465081 -0.504248  1.000000  0.093119   \n",
            "TOA      0.086758  0.165363  0.064062 -0.000626 -0.026483  0.093119  1.000000   \n",
            "WORKSCH  0.002836  0.081335 -0.032194  0.021015 -0.033826  0.030997  0.341118   \n",
            "LOSLVL   0.336798  0.975901  0.516027  0.055113 -0.108329  0.368462  0.187518   \n",
            "\n",
            "          WORKSCH    LOSLVL  \n",
            "SALARY   0.002836  0.336798  \n",
            "LOS      0.081335  0.975901  \n",
            "AGELVL  -0.032194  0.516027  \n",
            "EDLVL    0.021015  0.055113  \n",
            "PATCO   -0.033826 -0.108329  \n",
            "SALLVL   0.030997  0.368462  \n",
            "TOA      0.341118  0.187518  \n",
            "WORKSCH  1.000000  0.090397  \n",
            "LOSLVL   0.090397  1.000000  \n"
          ]
        },
        {
          "output_type": "display_data",
          "data": {
            "text/plain": [
              "<Figure size 1000x800 with 2 Axes>"
            ],
            "image/png": "[encoded data removed]"
          },
          "metadata": {}
        }
      ]
    },
    {
      "cell_type": "markdown",
      "source": [
        "## PART 7: MODELLING"
      ],
      "metadata": {
        "id": "3dR3OV__CsXp"
      }
    },
    {
      "cell_type": "code",
      "source": [
        "df_full.isna().sum()"
      ],
      "metadata": {
        "colab": {
          "base_uri": "https://localhost:8080/",
          "height": 366
        },
        "id": "Erd_KZCTj_6X",
        "outputId": "a026ff0d-279b-4db1-bb15-235008840983"
      },
      "execution_count": null,
      "outputs": [
        {
          "output_type": "execute_result",
          "data": {
            "text/plain": [
              "SALARY     0\n",
              "LOS        0\n",
              "AGELVL     0\n",
              "EDLVL      0\n",
              "PATCO      0\n",
              "SALLVL     0\n",
              "TOA        0\n",
              "WORKSCH    0\n",
              "LOSLVL     0\n",
              "dtype: int64"
            ],
            "text/html": [
              "<div>\n",
              "<style scoped>\n",
              "    .dataframe tbody tr th:only-of-type {\n",
              "        vertical-align: middle;\n",
              "    }\n",
              "\n",
              "    .dataframe tbody tr th {\n",
              "        vertical-align: top;\n",
              "    }\n",
              "\n",
              "    .dataframe thead th {\n",
              "        text-align: right;\n",
              "    }\n",
              "</style>\n",
              "<table border=\"1\" class=\"dataframe\">\n",
              "  <thead>\n",
              "    <tr style=\"text-align: right;\">\n",
              "      <th></th>\n",
              "      <th>0</th>\n",
              "    </tr>\n",
              "  </thead>\n",
              "  <tbody>\n",
              "    <tr>\n",
              "      <th>SALARY</th>\n",
              "      <td>0</td>\n",
              "    </tr>\n",
              "    <tr>\n",
              "      <th>LOS</th>\n",
              "      <td>0</td>\n",
              "    </tr>\n",
              "    <tr>\n",
              "      <th>AGELVL</th>\n",
              "      <td>0</td>\n",
              "    </tr>\n",
              "    <tr>\n",
              "      <th>EDLVL</th>\n",
              "      <td>0</td>\n",
              "    </tr>\n",
              "    <tr>\n",
              "      <th>PATCO</th>\n",
              "      <td>0</td>\n",
              "    </tr>\n",
              "    <tr>\n",
              "      <th>SALLVL</th>\n",
              "      <td>0</td>\n",
              "    </tr>\n",
              "    <tr>\n",
              "      <th>TOA</th>\n",
              "      <td>0</td>\n",
              "    </tr>\n",
              "    <tr>\n",
              "      <th>WORKSCH</th>\n",
              "      <td>0</td>\n",
              "    </tr>\n",
              "    <tr>\n",
              "      <th>LOSLVL</th>\n",
              "      <td>0</td>\n",
              "    </tr>\n",
              "  </tbody>\n",
              "</table>\n",
              "</div><br><label><b>dtype:</b> int64</label>"
            ]
          },
          "metadata": {},
          "execution_count": 78
        }
      ]
    },
    {
      "cell_type": "markdown",
      "source": [
        "### PART 7.1: LINEAR REGRESSION"
      ],
      "metadata": {
        "id": "ovt6Jhhuued2"
      }
    },
    {
      "cell_type": "code",
      "source": [
        "from sklearn.model_selection import train_test_split\n",
        "\n",
        "# Separate features and target\n",
        "X = df_full.drop('LOS', axis=1)\n",
        "y = df_full['LOS']\n",
        "\n",
        "# Split into train and test sets\n",
        "X_train, X_test, y_train, y_test = train_test_split(\n",
        "    X, y, test_size=0.2, random_state=42  # 80% train, 20% test\n",
        ")\n",
        "\n",
        "# Check sizes\n",
        "print(\"Training set:\", X_train.shape)\n",
        "print(\"Testing set:\", X_test.shape)"
      ],
      "metadata": {
        "colab": {
          "base_uri": "https://localhost:8080/"
        },
        "id": "sVYIPxJT2LGq",
        "outputId": "da6fe236-13f8-424a-af16-27f413fc801e"
      },
      "execution_count": null,
      "outputs": [
        {
          "output_type": "stream",
          "name": "stdout",
          "text": [
            "Training set: (1556925, 8)\n",
            "Testing set: (389232, 8)\n"
          ]
        }
      ]
    },
    {
      "cell_type": "code",
      "source": [
        "from sklearn.linear_model import LinearRegression\n",
        "from sklearn.metrics import mean_squared_error, r2_score\n",
        "import numpy as np\n",
        "\n",
        "# Create and train the model\n",
        "model = LinearRegression()\n",
        "model.fit(X_train, y_train)\n",
        "\n",
        "# Predict on both sets\n",
        "y_train_pred = model.predict(X_train)\n",
        "y_test_pred = model.predict(X_test)\n",
        "\n",
        "# Evaluate\n",
        "\n",
        "train_mse = mean_squared_error(y_train, y_train_pred)\n",
        "train_rmse = np.sqrt(train_mse)\n",
        "train_r2 = r2_score(y_train, y_train_pred)\n",
        "\n",
        "test_mse = mean_squared_error(y_test, y_test_pred)\n",
        "test_rmse = np.sqrt(test_mse)\n",
        "test_r2 = r2_score(y_test, y_test_pred)\n",
        "\n",
        "print(f\"Train RMSE: {train_rmse:.4f}\")\n",
        "print(f\"Test RMSE:  {test_rmse:.4f}\")\n",
        "print(f\"Train R²:   {train_r2:.4f}\")\n",
        "print(f\"Test R²:    {test_r2:.4f}\")"
      ],
      "metadata": {
        "colab": {
          "base_uri": "https://localhost:8080/"
        },
        "id": "gCBImyDj4RAv",
        "outputId": "641eb2b9-ae14-47d2-8baa-02232f084184"
      },
      "execution_count": null,
      "outputs": [
        {
          "output_type": "stream",
          "name": "stdout",
          "text": [
            "Train RMSE: 2.0556\n",
            "Test RMSE:  2.0571\n",
            "Train R²:   0.9531\n",
            "Test R²:    0.9529\n"
          ]
        }
      ]
    },
    {
      "cell_type": "code",
      "source": [
        "from sklearn.model_selection import cross_val_score\n",
        "import numpy as np\n",
        "\n",
        "cv_scores = cross_val_score(model, X, y, cv=5, scoring='r2')\n",
        "print(f\"Cross-Validated R² Scores: {cv_scores}\")\n",
        "print(f\"Mean CV R²: {np.mean(cv_scores):.4f}\")"
      ],
      "metadata": {
        "colab": {
          "base_uri": "https://localhost:8080/"
        },
        "id": "cZ4GGeifoBKp",
        "outputId": "7c3cbe7f-ce21-4d63-dcbf-e683aa16e8dc"
      },
      "execution_count": null,
      "outputs": [
        {
          "output_type": "stream",
          "name": "stdout",
          "text": [
            "Cross-Validated R² Scores: [0.95171834 0.9554764  0.95480269 0.95817816 0.92426479]\n",
            "Mean CV R²: 0.9489\n"
          ]
        }
      ]
    },
    {
      "cell_type": "code",
      "source": [
        "import matplotlib.pyplot as plt\n",
        "\n",
        "plt.scatter(y_test, y_pred)\n",
        "plt.xlabel(\"Actual LOS\")\n",
        "plt.ylabel(\"Predicted LOS\")\n",
        "plt.title(\"Actual vs Predicted LOS\")\n",
        "plt.grid(True)\n",
        "plt.show()"
      ],
      "metadata": {
        "colab": {
          "base_uri": "https://localhost:8080/",
          "height": 472
        },
        "id": "hhSEkBW2nnJS",
        "outputId": "c3b44fb8-69e8-4b77-efeb-fc75c4d57084"
      },
      "execution_count": null,
      "outputs": [
        {
          "output_type": "display_data",
          "data": {
            "text/plain": [
              "<Figure size 640x480 with 1 Axes>"
            ],
            "image/png": "[encoded data removed]"
          },
          "metadata": {}
        }
      ]
    },
    {
      "cell_type": "code",
      "source": [
        "residuals = y_test - y_pred\n",
        "plt.hist(residuals, bins=30)\n",
        "plt.title(\"Residuals Distribution\")\n",
        "plt.xlabel(\"Error\")\n",
        "plt.ylabel(\"Frequency\")\n",
        "plt.grid(True)\n",
        "plt.show()"
      ],
      "metadata": {
        "colab": {
          "base_uri": "https://localhost:8080/",
          "height": 472
        },
        "id": "dbxIU28bnqMr",
        "outputId": "2e9d8c02-6e82-4f83-8ac4-aee0b9e0b0f4"
      },
      "execution_count": null,
      "outputs": [
        {
          "output_type": "display_data",
          "data": {
            "text/plain": [
              "<Figure size 640x480 with 1 Axes>"
            ],
            "image/png": "[encoded data removed]"
          },
          "metadata": {}
        }
      ]
    },
    {
      "cell_type": "markdown",
      "source": [
        "ehhh so far linear regression looks okay? good sign.\n",
        "<br>now i need to do other saimenzz. huzz hustling, huzzling 💅\n",
        "<br>7:41PM 4/6/2025 xx,shaushau"
      ],
      "metadata": {
        "id": "x5rAZ6DKvj65"
      }
    },
    {
      "cell_type": "markdown",
      "source": [
        "### PART 7.2: SECOND MODEL???"
      ],
      "metadata": {
        "id": "MBKjAtKpuj9H"
      }
    },
    {
      "cell_type": "markdown",
      "source": [
        "## PART 8: FORECASTING DASHBOARD??"
      ],
      "metadata": {
        "id": "QO7jXxwJuRyC"
      }
    },
    {
      "cell_type": "code",
      "source": [],
      "metadata": {
        "id": "OOARmzVUuXRj"
      },
      "execution_count": null,
      "outputs": []
    }
  ]
}